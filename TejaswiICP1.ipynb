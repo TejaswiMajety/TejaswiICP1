{
  "nbformat": 4,
  "nbformat_minor": 0,
  "metadata": {
    "colab": {
      "provenance": []
    },
    "kernelspec": {
      "name": "python3",
      "display_name": "Python 3"
    },
    "language_info": {
      "name": "python"
    }
  },
  "cells": [
    {
      "cell_type": "markdown",
      "source": [],
      "metadata": {
        "id": "z33asRRCaAeN"
      }
    },
    {
      "cell_type": "markdown",
      "source": [
        "The following is a list of 10 students ages:\n",
        "ages = [19, 22, 19, 24, 20, 25, 26, 24, 25, 24]\n",
        "• Sort the list and find the min and max age\n",
        "• Add the min age and the max age again to the list\n",
        "• Find the median age (one middle item or two middle items divided by two)\n",
        "• Find the average age (sum of all items divided by their number)\n",
        "• Find the range of the ages (max minus min)"
      ],
      "metadata": {
        "id": "UHzdLqDvaDmM"
      }
    },
    {
      "cell_type": "code",
      "source": [
        "# Initial list of ages\n",
        "ages = [19, 22, 19, 24, 20, 25, 26, 24, 25, 24]\n",
        "\n",
        "# Step 1: Sort the list and find the min and max age\n",
        "sorted_ages = sorted(ages)\n",
        "min_age = sorted_ages[0]\n",
        "max_age = sorted_ages[-1]\n",
        "\n",
        "print(\"Sorted ages:\", sorted_ages)\n",
        "print(\"Min age:\", min_age)\n",
        "print(\"Max age:\", max_age)\n",
        "\n",
        "# Step 2: Add the min age and the max age again to the list\n",
        "ages.append(min_age)\n",
        "ages.append(max_age)\n",
        "\n",
        "print(\"Ages after adding min and max:\", ages)\n",
        "\n",
        "# Step 3: Find the median age\n",
        "sorted_ages = sorted(ages)\n",
        "n = len(sorted_ages)\n",
        "\n",
        "if n % 2 == 0:\n",
        "    median_age = (sorted_ages[n//2 - 1] + sorted_ages[n//2]) / 2\n",
        "else:\n",
        "    median_age = sorted_ages[n//2]\n",
        "\n",
        "print(\"Median age:\", median_age)\n",
        "\n",
        "# Step 4: Find the average age\n",
        "average_age = sum(ages) / len(ages)\n",
        "\n",
        "print(\"Average age:\", average_age)\n",
        "\n",
        "# Step 5: Find the range of the ages\n",
        "age_range = max_age - min_age\n",
        "\n",
        "print(\"Range of ages:\", age_range)\n"
      ],
      "metadata": {
        "colab": {
          "base_uri": "https://localhost:8080/"
        },
        "id": "tiw8_Ib9a4wR",
        "outputId": "965f132a-39f9-4970-88b9-ec95bdc067d5"
      },
      "execution_count": 2,
      "outputs": [
        {
          "output_type": "stream",
          "name": "stdout",
          "text": [
            "Sorted ages: [19, 19, 20, 22, 24, 24, 24, 25, 25, 26]\n",
            "Min age: 19\n",
            "Max age: 26\n",
            "Ages after adding min and max: [19, 22, 19, 24, 20, 25, 26, 24, 25, 24, 19, 26]\n",
            "Median age: 24.0\n",
            "Average age: 22.75\n",
            "Range of ages: 7\n"
          ]
        }
      ]
    },
    {
      "cell_type": "markdown",
      "source": [],
      "metadata": {
        "id": "Wy4Z5JZQa-Fd"
      }
    },
    {
      "cell_type": "code",
      "source": [],
      "metadata": {
        "id": "xJnM_yFma_X_"
      },
      "execution_count": null,
      "outputs": []
    },
    {
      "cell_type": "markdown",
      "source": [],
      "metadata": {
        "id": "1TUZTHcNbAZq"
      }
    },
    {
      "cell_type": "markdown",
      "source": [
        "Create an empty dictionary called dog\n",
        "• Add name, color, breed, legs, age to the dog dictionary\n",
        "• Create a student dictionary and add first_name, last_name, gender, age, marital status,\n",
        "skills, country, city and address as keys for the dictionary\n",
        "• Get the length of the student dictionary\n",
        "• Get the value of skills and check the data type, it should be a list\n",
        "• Modify the skills values by adding one or two skills\n",
        "• Get the dictionary keys as a list\n",
        "• Get the dictionary values as a list"
      ],
      "metadata": {
        "id": "i5nGti3UbLPu"
      }
    },
    {
      "cell_type": "code",
      "source": [
        "# Create an empty dictionary called dog\n",
        "dog = {}\n",
        "\n",
        "# Add name, color, breed, legs, age to the dog dictionary\n",
        "dog['name'] = 'Buddy'\n",
        "dog['color'] = 'Brown'\n",
        "dog['breed'] = 'Labrador'\n",
        "dog['legs'] = 4\n",
        "dog['age'] = 3\n",
        "\n",
        "print(\"Dog dictionary:\", dog)\n",
        "\n",
        "# Create a student dictionary and add first_name, last_name, gender, age, marital status,\n",
        "# skills, country, city, and address as keys for the dictionary\n",
        "student = {\n",
        "    'first_name': 'John',\n",
        "    'last_name': 'Doe',\n",
        "    'gender': 'Male',\n",
        "    'age': 21,\n",
        "    'marital_status': 'Single',\n",
        "    'skills': ['Python', 'Java'],\n",
        "    'country': 'USA',\n",
        "    'city': 'New York',\n",
        "    'address': '123 Main St'\n",
        "}\n",
        "\n",
        "print(\"Student dictionary:\", student)\n",
        "\n",
        "# Get the length of the student dictionary\n",
        "student_length = len(student)\n",
        "print(\"Length of student dictionary:\", student_length)\n",
        "\n",
        "# Get the value of skills and check the data type, it should be a list\n",
        "skills = student['skills']\n",
        "print(\"Skills:\", skills)\n",
        "print(\"Data type of skills:\", type(skills))\n",
        "\n",
        "# Modify the skills values by adding one or two skills\n",
        "student['skills'].append('C++')\n",
        "student['skills'].append('JavaScript')\n",
        "\n",
        "print(\"Modified skills:\", student['skills'])\n",
        "\n",
        "# Get the dictionary keys as a list\n",
        "student_keys = list(student.keys())\n",
        "print(\"Student dictionary keys:\", student_keys)\n",
        "\n",
        "# Get the dictionary values as a list\n",
        "student_values = list(student.values())\n",
        "print(\"Student dictionary values:\", student_values)\n"
      ],
      "metadata": {
        "colab": {
          "base_uri": "https://localhost:8080/"
        },
        "id": "em8v6ZhMbM_9",
        "outputId": "eebd1d94-4f79-43cd-9bb5-3adbe7bd7be1"
      },
      "execution_count": 3,
      "outputs": [
        {
          "output_type": "stream",
          "name": "stdout",
          "text": [
            "Dog dictionary: {'name': 'Buddy', 'color': 'Brown', 'breed': 'Labrador', 'legs': 4, 'age': 3}\n",
            "Student dictionary: {'first_name': 'John', 'last_name': 'Doe', 'gender': 'Male', 'age': 21, 'marital_status': 'Single', 'skills': ['Python', 'Java'], 'country': 'USA', 'city': 'New York', 'address': '123 Main St'}\n",
            "Length of student dictionary: 9\n",
            "Skills: ['Python', 'Java']\n",
            "Data type of skills: <class 'list'>\n",
            "Modified skills: ['Python', 'Java', 'C++', 'JavaScript']\n",
            "Student dictionary keys: ['first_name', 'last_name', 'gender', 'age', 'marital_status', 'skills', 'country', 'city', 'address']\n",
            "Student dictionary values: ['John', 'Doe', 'Male', 21, 'Single', ['Python', 'Java', 'C++', 'JavaScript'], 'USA', 'New York', '123 Main St']\n"
          ]
        }
      ]
    },
    {
      "cell_type": "markdown",
      "source": [
        "Create a tuple containing names of your sisters and your brothers (imaginary siblings are\n",
        "fine)\n",
        "• Join brothers and sisters tuples and assign it to siblings\n",
        "• How many siblings do you have?\n",
        "• Modify the siblings tuple and add the name of your father and mother and assign it to\n",
        "family_members"
      ],
      "metadata": {
        "id": "42np4LWMcwNe"
      }
    },
    {
      "cell_type": "code",
      "source": [
        "# Create a tuple containing names of your sisters and your brothers\n",
        "sisters = ('Anna', 'Beth', 'Clara')\n",
        "brothers = ('David', 'Ethan', 'Frank')\n",
        "\n",
        "# Print the sisters and brothers tuples\n",
        "print(\"Sisters:\", sisters)\n",
        "print(\"Brothers:\", brothers)\n",
        "\n",
        "# Join brothers and sisters tuples and assign it to siblings\n",
        "siblings = sisters + brothers\n",
        "print(\"Siblings:\", siblings)\n",
        "\n",
        "# How many siblings do you have?\n",
        "num_siblings = len(siblings)\n",
        "print(\"Number of siblings:\", num_siblings)\n",
        "\n",
        "# Modify the siblings tuple and add the name of your father and mother and assign it to family_members\n",
        "family_members = siblings + ('Father', 'Mother')\n",
        "print(\"Family members:\", family_members)\n"
      ],
      "metadata": {
        "colab": {
          "base_uri": "https://localhost:8080/"
        },
        "id": "bnXQvIK5c0DA",
        "outputId": "39ef2e03-0423-494f-f480-afc1b61d2e1a"
      },
      "execution_count": 4,
      "outputs": [
        {
          "output_type": "stream",
          "name": "stdout",
          "text": [
            "Sisters: ('Anna', 'Beth', 'Clara')\n",
            "Brothers: ('David', 'Ethan', 'Frank')\n",
            "Siblings: ('Anna', 'Beth', 'Clara', 'David', 'Ethan', 'Frank')\n",
            "Number of siblings: 6\n",
            "Family members: ('Anna', 'Beth', 'Clara', 'David', 'Ethan', 'Frank', 'Father', 'Mother')\n"
          ]
        }
      ]
    },
    {
      "cell_type": "markdown",
      "source": [
        "it_companies = {'Facebook', 'Google', 'Microsoft', 'Apple', 'IBM', 'Oracle', 'Amazon'}\n",
        "A = {19, 22, 24, 20, 25, 26}\n",
        "B = {19, 22, 20, 25, 26, 24, 28, 27}\n",
        "age = [22, 19, 24, 25, 26, 24, 25, 24]\n",
        "• Find the length of the set it_companies\n",
        "• Add 'Twitter' to it_companies\n",
        "• Insert multiple IT companies at once to the set it_companies\n",
        "• Remove one of the companies from the set it_companies\n",
        "• What is the difference between remove and discard\n",
        "• Join A and B\n",
        "• Find A intersection B\n",
        "• Is A subset of B\n",
        "• Are A and B disjoint sets\n",
        "• Join A with B and B with A\n",
        "• What is the symmetric difference between A and B\n",
        "• Delete the sets completely\n",
        "• Convert the ages to a set and compare the length of the list and the set."
      ],
      "metadata": {
        "id": "Sn2euG-CdQsu"
      }
    },
    {
      "cell_type": "code",
      "source": [
        "# Initial sets and list\n",
        "it_companies = {'Facebook', 'Google', 'Microsoft', 'Apple', 'IBM', 'Oracle', 'Amazon'}\n",
        "A = {19, 22, 24, 20, 25, 26}\n",
        "B = {19, 22, 20, 25, 26, 24, 28, 27}\n",
        "age = [22, 19, 24, 25, 26, 24, 25, 24]\n",
        "\n",
        "# Find the length of the set it_companies\n",
        "length_it_companies = len(it_companies)\n",
        "print(\"Length of it_companies:\", length_it_companies)\n",
        "\n",
        "# Add 'Twitter' to it_companies\n",
        "it_companies.add('Twitter')\n",
        "print(\"it_companies after adding Twitter:\", it_companies)\n",
        "\n",
        "# Insert multiple IT companies at once to the set it_companies\n",
        "it_companies.update(['Intel', 'Cisco', 'HP'])\n",
        "print(\"it_companies after adding multiple companies:\", it_companies)\n",
        "\n",
        "# Remove one of the companies from the set it_companies\n",
        "it_companies.remove('Oracle')\n",
        "print(\"it_companies after removing Oracle:\", it_companies)\n",
        "\n",
        "# Difference between remove and discard\n",
        "# remove() raises a KeyError if the item does not exist, whereas discard() does not\n",
        "print(\"Difference between remove and discard: remove() raises an error if the item does not exist, discard() does not.\")\n",
        "\n",
        "# Join A and B\n",
        "joined_AB = A.union(B)\n",
        "print(\"A union B:\", joined_AB)\n",
        "\n",
        "# Find A intersection B\n",
        "intersection_AB = A.intersection(B)\n",
        "print(\"A intersection B:\", intersection_AB)\n",
        "\n",
        "# Is A subset of B\n",
        "is_subset = A.issubset(B)\n",
        "print(\"Is A subset of B:\", is_subset)\n",
        "\n",
        "# Are A and B disjoint sets\n",
        "are_disjoint = A.isdisjoint(B)\n",
        "print(\"Are A and B disjoint sets:\", are_disjoint)\n",
        "\n",
        "# Join A with B and B with A (union is commutative)\n",
        "join_A_with_B = A.union(B)\n",
        "join_B_with_A = B.union(A)\n",
        "print(\"A union B:\", join_A_with_B)\n",
        "print(\"B union A:\", join_B_with_A)\n",
        "\n",
        "# What is the symmetric difference between A and B\n",
        "symmetric_difference_AB = A.symmetric_difference(B)\n",
        "print(\"Symmetric difference between A and B:\", symmetric_difference_AB)\n",
        "\n",
        "# Delete the sets completely\n",
        "del A\n",
        "del B\n",
        "print(\"Sets A and B deleted.\")\n",
        "\n",
        "# Convert the ages to a set and compare the length of the list and the set\n",
        "age_set = set(age)\n",
        "length_age_list = len(age)\n",
        "length_age_set = len(age_set)\n",
        "print(\"Length of age list:\", length_age_list)\n",
        "print(\"Length of age set:\", length_age_set)\n"
      ],
      "metadata": {
        "colab": {
          "base_uri": "https://localhost:8080/"
        },
        "id": "bgLU7OmDdVPc",
        "outputId": "10175fd6-a6bf-4c5a-b928-c4160072dd8a"
      },
      "execution_count": 5,
      "outputs": [
        {
          "output_type": "stream",
          "name": "stdout",
          "text": [
            "Length of it_companies: 7\n",
            "it_companies after adding Twitter: {'Apple', 'Facebook', 'Oracle', 'Twitter', 'IBM', 'Microsoft', 'Amazon', 'Google'}\n",
            "it_companies after adding multiple companies: {'Oracle', 'IBM', 'Intel', 'Facebook', 'Google', 'Amazon', 'Apple', 'Twitter', 'Cisco', 'Microsoft', 'HP'}\n",
            "it_companies after removing Oracle: {'IBM', 'Intel', 'Facebook', 'Google', 'Amazon', 'Apple', 'Twitter', 'Cisco', 'Microsoft', 'HP'}\n",
            "Difference between remove and discard: remove() raises an error if the item does not exist, discard() does not.\n",
            "A union B: {19, 20, 22, 24, 25, 26, 27, 28}\n",
            "A intersection B: {19, 20, 22, 24, 25, 26}\n",
            "Is A subset of B: True\n",
            "Are A and B disjoint sets: False\n",
            "A union B: {19, 20, 22, 24, 25, 26, 27, 28}\n",
            "B union A: {19, 20, 22, 24, 25, 26, 27, 28}\n",
            "Symmetric difference between A and B: {27, 28}\n",
            "Sets A and B deleted.\n",
            "Length of age list: 8\n",
            "Length of age set: 5\n"
          ]
        }
      ]
    },
    {
      "cell_type": "markdown",
      "source": [
        "The radius of a circle is 30 meters.\n",
        "• Calculate the area of a circle and assign the value to a variable name of _area_of_circle_\n",
        "• Calculate the circumference of a circle and assign the value to a variable name of\n",
        "_circum_of_circle_\n",
        "• Take radius as user input and calculate the area."
      ],
      "metadata": {
        "id": "Rlqn2tQCdq0t"
      }
    },
    {
      "cell_type": "code",
      "source": [
        "import math\n",
        "\n",
        "# Given radius\n",
        "radius = 30\n",
        "\n",
        "# Calculate the area of the circle\n",
        "_area_of_circle_ = math.pi * (radius ** 2)\n",
        "print(\"Area of the circle with radius 30 meters:\", _area_of_circle_)\n",
        "\n",
        "# Calculate the circumference of the circle\n",
        "_circum_of_circle_ = 2 * math.pi * radius\n",
        "print(\"Circumference of the circle with radius 30 meters:\", _circum_of_circle_)\n",
        "\n",
        "# Take radius as user input and calculate the area\n",
        "user_radius = float(input(\"Enter the radius of the circle: \"))\n",
        "user_area_of_circle = math.pi * (user_radius ** 2)\n",
        "print(f\"Area of the circle with radius {user_radius} meters:\", user_area_of_circle)\n"
      ],
      "metadata": {
        "colab": {
          "base_uri": "https://localhost:8080/"
        },
        "id": "w5vWLVyGdspC",
        "outputId": "84d4fccf-088e-4ae5-9c6d-58d51cb83432"
      },
      "execution_count": 6,
      "outputs": [
        {
          "output_type": "stream",
          "name": "stdout",
          "text": [
            "Area of the circle with radius 30 meters: 2827.4333882308138\n",
            "Circumference of the circle with radius 30 meters: 188.49555921538757\n",
            "Enter the radius of the circle: 25\n",
            "Area of the circle with radius 25.0 meters: 1963.4954084936207\n"
          ]
        }
      ]
    },
    {
      "cell_type": "markdown",
      "source": [
        "“I am a teacher and I love to inspire and teach people”\n",
        "• How many unique words have been used in the sentence? Use the split methods and set\n",
        "to get the unique words."
      ],
      "metadata": {
        "id": "bBFtLWH4eV9o"
      }
    },
    {
      "cell_type": "code",
      "source": [
        "# Sentence\n",
        "sentence = \"I am a teacher and I love to inspire and teach people\"\n",
        "\n",
        "# Split the sentence into words and convert to lowercase to ensure case-insensitive counting\n",
        "words = sentence.lower().split()\n",
        "\n",
        "# Print the words in the sentence\n",
        "print(\"Words in the sentence:\", words)\n",
        "\n",
        "# Get unique words using set\n",
        "unique_words = set(words)\n",
        "\n",
        "# Print the unique words\n",
        "print(\"Unique words in the sentence:\", unique_words)\n",
        "\n",
        "# Count the number of unique words\n",
        "num_unique_words = len(unique_words)\n",
        "\n",
        "print(\"Number of unique words in the sentence:\", num_unique_words)\n"
      ],
      "metadata": {
        "colab": {
          "base_uri": "https://localhost:8080/"
        },
        "id": "-vzFOcddeXIR",
        "outputId": "e7870451-943a-41aa-fe3b-2567ca0fdb29"
      },
      "execution_count": 7,
      "outputs": [
        {
          "output_type": "stream",
          "name": "stdout",
          "text": [
            "Words in the sentence: ['i', 'am', 'a', 'teacher', 'and', 'i', 'love', 'to', 'inspire', 'and', 'teach', 'people']\n",
            "Unique words in the sentence: {'people', 'a', 'teacher', 'inspire', 'teach', 'am', 'love', 'to', 'and', 'i'}\n",
            "Number of unique words in the sentence: 10\n"
          ]
        }
      ]
    },
    {
      "cell_type": "markdown",
      "source": [],
      "metadata": {
        "id": "rAqLmdFDec-v"
      }
    },
    {
      "cell_type": "markdown",
      "source": [
        "Use a tab escape sequence to get the following lines.\n",
        "Name Age Country City\n",
        "Asabeneh 250 Finland Helsinki"
      ],
      "metadata": {
        "id": "EFT0WSB5ek5g"
      }
    },
    {
      "cell_type": "code",
      "source": [
        "# Using tab escape sequence to print the lines\n",
        "print(\"Name\\tAge\\tCountry\\tCity\")\n",
        "print(\"Asabeneh\\t250\\tFinland\\tHelsinki\")\n"
      ],
      "metadata": {
        "colab": {
          "base_uri": "https://localhost:8080/"
        },
        "id": "AQJA8odlemu3",
        "outputId": "e122aaca-a3f6-4635-97e7-766479742688"
      },
      "execution_count": 8,
      "outputs": [
        {
          "output_type": "stream",
          "name": "stdout",
          "text": [
            "Name\tAge\tCountry\tCity\n",
            "Asabeneh\t250\tFinland\tHelsinki\n"
          ]
        }
      ]
    },
    {
      "cell_type": "markdown",
      "source": [
        "Use the string formatting method to display the following:\n",
        "radius = 10\n",
        "area = 3.14 * radius ** 2\n",
        "“The area of a circle with radius 10 is 314 meters square.”"
      ],
      "metadata": {
        "id": "DDhviKzwgHR6"
      }
    },
    {
      "cell_type": "code",
      "source": [
        "# Given radius\n",
        "radius = 10\n",
        "\n",
        "# Calculate the area of the circle\n",
        "area = 3.14 * radius ** 2\n",
        "\n",
        "# Using string formatting method to display the statement\n",
        "print(\"The area of a circle with radius {} is {} meters square.\".format(radius, area))\n"
      ],
      "metadata": {
        "colab": {
          "base_uri": "https://localhost:8080/"
        },
        "id": "5X-ttagTgIgf",
        "outputId": "69381ccc-4ecb-47b2-d2a1-7cba95f58aa1"
      },
      "execution_count": 9,
      "outputs": [
        {
          "output_type": "stream",
          "name": "stdout",
          "text": [
            "The area of a circle with radius 10 is 314.0 meters square.\n"
          ]
        }
      ]
    },
    {
      "cell_type": "markdown",
      "source": [
        "Write a program, which reads weights (lbs.) of N students into a list and convert these weights to\n",
        "kilograms in a separate list using Loop. N: No of students (Read input from user)\n",
        "Ex: L1: [150, 155, 145, 148]\n",
        "Output: [68.03, 70.3, 65.77, 67.13]"
      ],
      "metadata": {
        "id": "4XklvH0sgZVZ"
      }
    },
    {
      "cell_type": "code",
      "source": [
        "# Read the number of students from the user\n",
        "N = int(input(\"Enter the number of students: \"))\n",
        "\n",
        "# Initialize an empty list to store weights in pounds\n",
        "weights_lbs = []\n",
        "\n",
        "# Read weights of N students into a list\n",
        "for i in range(N):\n",
        "    weight_lbs = float(input(f\"Enter the weight of student {i+1} (in lbs): \"))\n",
        "    weights_lbs.append(weight_lbs)\n",
        "\n",
        "print(\"Weights in lbs:\", weights_lbs)\n",
        "\n",
        "# Convert weights from pounds to kilograms\n",
        "weights_kgs = []\n",
        "for weight_lbs in weights_lbs:\n",
        "    weight_kgs = weight_lbs * 0.453592  # Conversion factor from pounds to kilograms\n",
        "    weights_kgs.append(round(weight_kgs, 2))\n",
        "\n",
        "print(\"Weights in kgs:\", weights_kgs)\n"
      ],
      "metadata": {
        "colab": {
          "base_uri": "https://localhost:8080/"
        },
        "id": "7GVADF-RganQ",
        "outputId": "b5983c76-955d-4efc-d5c5-ca6aef5a499a"
      },
      "execution_count": 10,
      "outputs": [
        {
          "output_type": "stream",
          "name": "stdout",
          "text": [
            "Enter the number of students: 4\n",
            "Enter the weight of student 1 (in lbs): 150\n",
            "Enter the weight of student 2 (in lbs): 145\n",
            "Enter the weight of student 3 (in lbs): 155\n",
            "Enter the weight of student 4 (in lbs): 148\n",
            "Weights in lbs: [150.0, 145.0, 155.0, 148.0]\n",
            "Weights in kgs: [68.04, 65.77, 70.31, 67.13]\n"
          ]
        }
      ]
    }
  ]
}