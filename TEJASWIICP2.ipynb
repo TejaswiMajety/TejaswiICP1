{
  "nbformat": 4,
  "nbformat_minor": 0,
  "metadata": {
    "colab": {
      "provenance": []
    },
    "kernelspec": {
      "name": "python3",
      "display_name": "Python 3"
    },
    "language_info": {
      "name": "python"
    }
  },
  "cells": [
    {
      "cell_type": "code",
      "execution_count": null,
      "metadata": {
        "id": "bcPlLcLkQZsi"
      },
      "outputs": [],
      "source": []
    },
    {
      "cell_type": "markdown",
      "source": [
        "Use looping to output the elements from a provided list present at odd indexes.\n",
        "my_list = [10, 20, 30, 40, 50, 60, 70, 80, 90, 100]"
      ],
      "metadata": {
        "id": "kYpFZVzZQdtG"
      }
    },
    {
      "cell_type": "code",
      "source": [
        "# Provided list\n",
        "my_list = [10, 20, 30, 40, 50, 60, 70, 80, 90, 100]\n",
        "\n",
        "# Print the elements at odd indexes\n",
        "print(\"Elements at odd indexes:\")\n",
        "for i in range(1, len(my_list), 2):\n",
        "    print(my_list[i])\n"
      ],
      "metadata": {
        "colab": {
          "base_uri": "https://localhost:8080/"
        },
        "id": "aalbti-bQgbm",
        "outputId": "1322f10e-6f6c-4432-cb9d-a7a48fbc6237"
      },
      "execution_count": null,
      "outputs": [
        {
          "output_type": "stream",
          "name": "stdout",
          "text": [
            "Elements at odd indexes:\n",
            "20\n",
            "40\n",
            "60\n",
            "80\n",
            "100\n"
          ]
        }
      ]
    },
    {
      "cell_type": "markdown",
      "source": [
        "Write a code that appends the type of elements from a given list.\n",
        "Input\n",
        "x = [23, ‘Python’, 23.98]\n",
        "Expected output\n",
        "[23, 'Python', 23.98]\n",
        "[<class 'int'>, <class 'str'>, <class 'float'>]"
      ],
      "metadata": {
        "id": "EQ781hOdROLd"
      }
    },
    {
      "cell_type": "code",
      "source": [
        "# Given list\n",
        "x = [23, 'Python', 23.98]\n",
        "\n",
        "# Print the original list\n",
        "print(x)\n",
        "\n",
        "# Initialize an empty list to store the types of elements\n",
        "types = []\n",
        "\n",
        "# Iterate over each element in the list\n",
        "for element in x:\n",
        "    # Append the type of the element to the types list\n",
        "    types.append(type(element))\n",
        "\n",
        "# Print the list of types\n",
        "print(types)\n"
      ],
      "metadata": {
        "colab": {
          "base_uri": "https://localhost:8080/"
        },
        "id": "S2DnFe5VRPk_",
        "outputId": "9392db23-f8a6-456f-8521-bd979108bc01"
      },
      "execution_count": null,
      "outputs": [
        {
          "output_type": "stream",
          "name": "stdout",
          "text": [
            "[23, 'Python', 23.98]\n",
            "[<class 'int'>, <class 'str'>, <class 'float'>]\n"
          ]
        }
      ]
    },
    {
      "cell_type": "markdown",
      "source": [
        "Write a function that takes a list and returns a new list with unique items of the first list.\n",
        "Sample List: [1,2,3,3,3,3,4,5]\n",
        "Unique List: [1, 2, 3, 4, 5]\n"
      ],
      "metadata": {
        "id": "MLd2CVT2RpA5"
      }
    },
    {
      "cell_type": "code",
      "source": [
        "def get_unique_items(input_list):\n",
        "    # Convert the input list to a set to remove duplicates\n",
        "    unique_set = set(input_list)\n",
        "    # Convert the set back to a list to get the unique items\n",
        "    unique_list = list(unique_set)\n",
        "    return unique_list\n",
        "\n",
        "# Sample List\n",
        "sample_list = [1, 2, 3, 3, 3, 3, 4, 5]\n",
        "\n",
        "# Get the unique list\n",
        "unique_list = get_unique_items(sample_list)\n",
        "\n",
        "# Print the results\n",
        "print(\"Sample List:\", sample_list)\n",
        "print(\"Unique List:\", unique_list)\n"
      ],
      "metadata": {
        "colab": {
          "base_uri": "https://localhost:8080/"
        },
        "id": "_jKny1N1RqSA",
        "outputId": "c099a6f6-e915-4e97-b807-3456be5a86bb"
      },
      "execution_count": null,
      "outputs": [
        {
          "output_type": "stream",
          "name": "stdout",
          "text": [
            "Sample List: [1, 2, 3, 3, 3, 3, 4, 5]\n",
            "Unique List: [1, 2, 3, 4, 5]\n"
          ]
        }
      ]
    },
    {
      "cell_type": "markdown",
      "source": [
        "Write a function that accepts a string and calculate the number of upper-case letters and lower-case\n",
        "letters.\n",
        "Input String: 'The quick Brow Fox'\n",
        "Expected Output:\n",
        "No. of Upper-case characters: 3\n",
        "No. of Lower-case Characters: 12"
      ],
      "metadata": {
        "id": "4JNimISNR8Go"
      }
    },
    {
      "cell_type": "code",
      "source": [
        "def count_upper_lower(s):\n",
        "    # Initialize counters\n",
        "    upper_count = 0\n",
        "    lower_count = 0\n",
        "\n",
        "    # Iterate over each character in the string\n",
        "    for char in s:\n",
        "        if char.isupper():\n",
        "            upper_count += 1\n",
        "        elif char.islower():\n",
        "            lower_count += 1\n",
        "\n",
        "    return upper_count, lower_count\n",
        "\n",
        "# Input string\n",
        "input_string = 'The quick Brow Fox'\n",
        "\n",
        "# Get the counts of upper and lower case characters\n",
        "upper_count, lower_count = count_upper_lower(input_string)\n",
        "\n",
        "# Print the results\n",
        "print(\"Input String:\", input_string)\n",
        "print(\"No. of Upper-case characters:\", upper_count)\n",
        "print(\"No. of Lower-case characters:\", lower_count)\n"
      ],
      "metadata": {
        "colab": {
          "base_uri": "https://localhost:8080/"
        },
        "id": "uEpDFuNmR9QY",
        "outputId": "54116448-ccc0-423b-b984-a4300a9b5201"
      },
      "execution_count": null,
      "outputs": [
        {
          "output_type": "stream",
          "name": "stdout",
          "text": [
            "Input String: The quick Brow Fox\n",
            "No. of Upper-case characters: 3\n",
            "No. of Lower-case characters: 12\n"
          ]
        }
      ]
    },
    {
      "cell_type": "markdown",
      "source": [
        "Use a python code to display the following star pattern using the for loop\n",
        "*\n",
        "* *\n",
        "* * *\n",
        "* * * * *\n",
        "* * * *\n",
        "* * *\n",
        "* *\n",
        "*"
      ],
      "metadata": {
        "id": "gfXN-CDWSkG2"
      }
    },
    {
      "cell_type": "code",
      "source": [
        "# Number of rows for the upper part of the pattern\n",
        "n = 5\n",
        "\n",
        "# Print the upper part of the pattern\n",
        "for i in range(1, n + 1):\n",
        "    print('* ' * i)\n",
        "\n",
        "# Print the lower part of the pattern\n",
        "for i in range(n - 1, 0, -1):\n",
        "    print('* ' * i)\n"
      ],
      "metadata": {
        "colab": {
          "base_uri": "https://localhost:8080/"
        },
        "id": "HhK-rrIJSlYv",
        "outputId": "56c7fd56-df82-49c7-a1d1-b38320437686"
      },
      "execution_count": null,
      "outputs": [
        {
          "output_type": "stream",
          "name": "stdout",
          "text": [
            "* \n",
            "* * \n",
            "* * * \n",
            "* * * * \n",
            "* * * * * \n",
            "* * * * \n",
            "* * * \n",
            "* * \n",
            "* \n"
          ]
        }
      ]
    }
  ]
}